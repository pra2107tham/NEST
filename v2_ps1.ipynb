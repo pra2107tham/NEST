{
 "cells": [
  {
   "cell_type": "code",
   "execution_count": 1,
   "id": "1f61a6c4",
   "metadata": {},
   "outputs": [],
   "source": [
    "import pandas as pd\n",
    "import numpy as np\n",
    "import matplotlib.pylab as plt\n",
    "import seaborn as sns\n",
    "\n",
    "plt.style.use('ggplot')\n",
    "pd.set_option('display.max_columns', 200)"
   ]
  },
  {
   "cell_type": "code",
   "execution_count": 2,
   "id": "3584331b",
   "metadata": {},
   "outputs": [],
   "source": [
    "dfel=pd.read_csv(\"eligibilty_test.csv\")"
   ]
  },
  {
   "cell_type": "code",
   "execution_count": 3,
   "id": "e2e27062",
   "metadata": {},
   "outputs": [
    {
     "data": {
      "text/plain": [
       "Index(['id', 'nct_id', 'sampling_method', 'gender', 'minimum_age',\n",
       "       'maximum_age', 'healthy_volunteers', 'population', 'criteria',\n",
       "       'gender_description', 'gender_based', 'adult', 'child', 'older_adult'],\n",
       "      dtype='object')"
      ]
     },
     "execution_count": 3,
     "metadata": {},
     "output_type": "execute_result"
    }
   ],
   "source": [
    "dfel.columns\n",
    "# df.shape"
   ]
  },
  {
   "cell_type": "code",
   "execution_count": 5,
   "id": "904b9b36",
   "metadata": {},
   "outputs": [
    {
     "data": {
      "text/plain": [
       "id                     int64\n",
       "nct_id                object\n",
       "sampling_method       object\n",
       "gender                object\n",
       "minimum_age           object\n",
       "maximum_age           object\n",
       "healthy_volunteers    object\n",
       "population            object\n",
       "criteria              object\n",
       "gender_description    object\n",
       "gender_based          object\n",
       "adult                 object\n",
       "child                 object\n",
       "older_adult           object\n",
       "dtype: object"
      ]
     },
     "execution_count": 5,
     "metadata": {},
     "output_type": "execute_result"
    }
   ],
   "source": [
    "dfel.dtypes"
   ]
  },
  {
   "cell_type": "code",
   "execution_count": 6,
   "id": "c4b63a36",
   "metadata": {},
   "outputs": [
    {
     "data": {
      "text/html": [
       "<div>\n",
       "<style scoped>\n",
       "    .dataframe tbody tr th:only-of-type {\n",
       "        vertical-align: middle;\n",
       "    }\n",
       "\n",
       "    .dataframe tbody tr th {\n",
       "        vertical-align: top;\n",
       "    }\n",
       "\n",
       "    .dataframe thead th {\n",
       "        text-align: right;\n",
       "    }\n",
       "</style>\n",
       "<table border=\"1\" class=\"dataframe\">\n",
       "  <thead>\n",
       "    <tr style=\"text-align: right;\">\n",
       "      <th></th>\n",
       "      <th>id</th>\n",
       "    </tr>\n",
       "  </thead>\n",
       "  <tbody>\n",
       "    <tr>\n",
       "      <th>count</th>\n",
       "      <td>5.000000e+02</td>\n",
       "    </tr>\n",
       "    <tr>\n",
       "      <th>mean</th>\n",
       "      <td>6.195466e+06</td>\n",
       "    </tr>\n",
       "    <tr>\n",
       "      <th>std</th>\n",
       "      <td>7.444846e+04</td>\n",
       "    </tr>\n",
       "    <tr>\n",
       "      <th>min</th>\n",
       "      <td>5.955908e+06</td>\n",
       "    </tr>\n",
       "    <tr>\n",
       "      <th>25%</th>\n",
       "      <td>6.159126e+06</td>\n",
       "    </tr>\n",
       "    <tr>\n",
       "      <th>50%</th>\n",
       "      <td>6.159250e+06</td>\n",
       "    </tr>\n",
       "    <tr>\n",
       "      <th>75%</th>\n",
       "      <td>6.260155e+06</td>\n",
       "    </tr>\n",
       "    <tr>\n",
       "      <th>max</th>\n",
       "      <td>6.361043e+06</td>\n",
       "    </tr>\n",
       "  </tbody>\n",
       "</table>\n",
       "</div>"
      ],
      "text/plain": [
       "                 id\n",
       "count  5.000000e+02\n",
       "mean   6.195466e+06\n",
       "std    7.444846e+04\n",
       "min    5.955908e+06\n",
       "25%    6.159126e+06\n",
       "50%    6.159250e+06\n",
       "75%    6.260155e+06\n",
       "max    6.361043e+06"
      ]
     },
     "execution_count": 6,
     "metadata": {},
     "output_type": "execute_result"
    }
   ],
   "source": [
    "dfel.describe()\n"
   ]
  },
  {
   "cell_type": "code",
   "execution_count": 7,
   "id": "f0581168",
   "metadata": {},
   "outputs": [
    {
     "data": {
      "text/plain": [
       "id                      0\n",
       "nct_id                  0\n",
       "sampling_method       394\n",
       "gender                  0\n",
       "minimum_age            33\n",
       "maximum_age           222\n",
       "healthy_volunteers     11\n",
       "population            394\n",
       "criteria                0\n",
       "gender_description    489\n",
       "gender_based          475\n",
       "adult                   0\n",
       "child                   0\n",
       "older_adult             0\n",
       "dtype: int64"
      ]
     },
     "execution_count": 7,
     "metadata": {},
     "output_type": "execute_result"
    }
   ],
   "source": [
    "dfel.isna().sum()"
   ]
  },
  {
   "cell_type": "code",
   "execution_count": 8,
   "id": "e183545e",
   "metadata": {},
   "outputs": [
    {
     "data": {
      "text/html": [
       "<div>\n",
       "<style scoped>\n",
       "    .dataframe tbody tr th:only-of-type {\n",
       "        vertical-align: middle;\n",
       "    }\n",
       "\n",
       "    .dataframe tbody tr th {\n",
       "        vertical-align: top;\n",
       "    }\n",
       "\n",
       "    .dataframe thead th {\n",
       "        text-align: right;\n",
       "    }\n",
       "</style>\n",
       "<table border=\"1\" class=\"dataframe\">\n",
       "  <thead>\n",
       "    <tr style=\"text-align: right;\">\n",
       "      <th></th>\n",
       "      <th>id</th>\n",
       "      <th>nct_id</th>\n",
       "      <th>sampling_method</th>\n",
       "      <th>gender</th>\n",
       "      <th>minimum_age</th>\n",
       "      <th>maximum_age</th>\n",
       "      <th>healthy_volunteers</th>\n",
       "      <th>population</th>\n",
       "      <th>criteria</th>\n",
       "      <th>gender_description</th>\n",
       "      <th>gender_based</th>\n",
       "      <th>adult</th>\n",
       "      <th>child</th>\n",
       "      <th>older_adult</th>\n",
       "    </tr>\n",
       "  </thead>\n",
       "  <tbody>\n",
       "    <tr>\n",
       "      <th>0</th>\n",
       "      <td>6260055</td>\n",
       "      <td>NCT05050916</td>\n",
       "      <td>NaN</td>\n",
       "      <td>FEMALE</td>\n",
       "      <td>19 Years</td>\n",
       "      <td>40 Years</td>\n",
       "      <td>f</td>\n",
       "      <td>NaN</td>\n",
       "      <td>* INCLUSION CRITERIA:~In order to be eligible ...</td>\n",
       "      <td>NaN</td>\n",
       "      <td>NaN</td>\n",
       "      <td>t</td>\n",
       "      <td>f</td>\n",
       "      <td>f</td>\n",
       "    </tr>\n",
       "    <tr>\n",
       "      <th>1</th>\n",
       "      <td>6260056</td>\n",
       "      <td>NCT01092156</td>\n",
       "      <td>NaN</td>\n",
       "      <td>FEMALE</td>\n",
       "      <td>18 Years</td>\n",
       "      <td>NaN</td>\n",
       "      <td>t</td>\n",
       "      <td>NaN</td>\n",
       "      <td>Inclusion Criteria:~* Pregnant women who inten...</td>\n",
       "      <td>NaN</td>\n",
       "      <td>NaN</td>\n",
       "      <td>t</td>\n",
       "      <td>f</td>\n",
       "      <td>t</td>\n",
       "    </tr>\n",
       "    <tr>\n",
       "      <th>2</th>\n",
       "      <td>6260057</td>\n",
       "      <td>NCT01218256</td>\n",
       "      <td>NaN</td>\n",
       "      <td>ALL</td>\n",
       "      <td>30 Years</td>\n",
       "      <td>80 Years</td>\n",
       "      <td>f</td>\n",
       "      <td>NaN</td>\n",
       "      <td>Inclusion Criteria:~* type 2 diabetes mellitus...</td>\n",
       "      <td>NaN</td>\n",
       "      <td>NaN</td>\n",
       "      <td>t</td>\n",
       "      <td>f</td>\n",
       "      <td>t</td>\n",
       "    </tr>\n",
       "    <tr>\n",
       "      <th>3</th>\n",
       "      <td>6260058</td>\n",
       "      <td>NCT03240432</td>\n",
       "      <td>NaN</td>\n",
       "      <td>ALL</td>\n",
       "      <td>60 Years</td>\n",
       "      <td>NaN</td>\n",
       "      <td>t</td>\n",
       "      <td>NaN</td>\n",
       "      <td>Inclusion Criteria:~To be eligible for the stu...</td>\n",
       "      <td>NaN</td>\n",
       "      <td>NaN</td>\n",
       "      <td>t</td>\n",
       "      <td>f</td>\n",
       "      <td>t</td>\n",
       "    </tr>\n",
       "    <tr>\n",
       "      <th>4</th>\n",
       "      <td>6260059</td>\n",
       "      <td>NCT04348578</td>\n",
       "      <td>NaN</td>\n",
       "      <td>ALL</td>\n",
       "      <td>18 Years</td>\n",
       "      <td>65 Years</td>\n",
       "      <td>t</td>\n",
       "      <td>NaN</td>\n",
       "      <td>Inclusion Criteria:~* necrotic, single root te...</td>\n",
       "      <td>NaN</td>\n",
       "      <td>NaN</td>\n",
       "      <td>t</td>\n",
       "      <td>f</td>\n",
       "      <td>t</td>\n",
       "    </tr>\n",
       "  </tbody>\n",
       "</table>\n",
       "</div>"
      ],
      "text/plain": [
       "        id       nct_id sampling_method  gender minimum_age maximum_age  \\\n",
       "0  6260055  NCT05050916             NaN  FEMALE    19 Years    40 Years   \n",
       "1  6260056  NCT01092156             NaN  FEMALE    18 Years         NaN   \n",
       "2  6260057  NCT01218256             NaN     ALL    30 Years    80 Years   \n",
       "3  6260058  NCT03240432             NaN     ALL    60 Years         NaN   \n",
       "4  6260059  NCT04348578             NaN     ALL    18 Years    65 Years   \n",
       "\n",
       "  healthy_volunteers population  \\\n",
       "0                  f        NaN   \n",
       "1                  t        NaN   \n",
       "2                  f        NaN   \n",
       "3                  t        NaN   \n",
       "4                  t        NaN   \n",
       "\n",
       "                                            criteria gender_description  \\\n",
       "0  * INCLUSION CRITERIA:~In order to be eligible ...                NaN   \n",
       "1  Inclusion Criteria:~* Pregnant women who inten...                NaN   \n",
       "2  Inclusion Criteria:~* type 2 diabetes mellitus...                NaN   \n",
       "3  Inclusion Criteria:~To be eligible for the stu...                NaN   \n",
       "4  Inclusion Criteria:~* necrotic, single root te...                NaN   \n",
       "\n",
       "  gender_based adult child older_adult  \n",
       "0          NaN     t     f           f  \n",
       "1          NaN     t     f           t  \n",
       "2          NaN     t     f           t  \n",
       "3          NaN     t     f           t  \n",
       "4          NaN     t     f           t  "
      ]
     },
     "execution_count": 8,
     "metadata": {},
     "output_type": "execute_result"
    }
   ],
   "source": [
    "dfel.head()"
   ]
  },
  {
   "cell_type": "code",
   "execution_count": 9,
   "id": "d9c6b518",
   "metadata": {},
   "outputs": [
    {
     "data": {
      "text/html": [
       "<div>\n",
       "<style scoped>\n",
       "    .dataframe tbody tr th:only-of-type {\n",
       "        vertical-align: middle;\n",
       "    }\n",
       "\n",
       "    .dataframe tbody tr th {\n",
       "        vertical-align: top;\n",
       "    }\n",
       "\n",
       "    .dataframe thead th {\n",
       "        text-align: right;\n",
       "    }\n",
       "</style>\n",
       "<table border=\"1\" class=\"dataframe\">\n",
       "  <thead>\n",
       "    <tr style=\"text-align: right;\">\n",
       "      <th></th>\n",
       "      <th>id</th>\n",
       "      <th>nct_id</th>\n",
       "      <th>sampling_method</th>\n",
       "      <th>gender</th>\n",
       "      <th>minimum_age</th>\n",
       "      <th>maximum_age</th>\n",
       "      <th>healthy_volunteers</th>\n",
       "      <th>population</th>\n",
       "      <th>criteria</th>\n",
       "      <th>gender_description</th>\n",
       "      <th>gender_based</th>\n",
       "      <th>adult</th>\n",
       "      <th>child</th>\n",
       "      <th>older_adult</th>\n",
       "    </tr>\n",
       "  </thead>\n",
       "  <tbody>\n",
       "  </tbody>\n",
       "</table>\n",
       "</div>"
      ],
      "text/plain": [
       "Empty DataFrame\n",
       "Columns: [id, nct_id, sampling_method, gender, minimum_age, maximum_age, healthy_volunteers, population, criteria, gender_description, gender_based, adult, child, older_adult]\n",
       "Index: []"
      ]
     },
     "execution_count": 9,
     "metadata": {},
     "output_type": "execute_result"
    }
   ],
   "source": [
    "dfel.loc[df.duplicated()]"
   ]
  },
  {
   "cell_type": "code",
   "execution_count": null,
   "id": "84656447",
   "metadata": {},
   "outputs": [],
   "source": []
  },
  {
   "cell_type": "code",
   "execution_count": null,
   "id": "3eec6431",
   "metadata": {},
   "outputs": [],
   "source": []
  },
  {
   "cell_type": "code",
   "execution_count": null,
   "id": "80b740af",
   "metadata": {},
   "outputs": [],
   "source": []
  },
  {
   "cell_type": "code",
   "execution_count": null,
   "id": "06ef9777",
   "metadata": {},
   "outputs": [],
   "source": []
  },
  {
   "cell_type": "code",
   "execution_count": 21,
   "id": "03bd0fa4",
   "metadata": {},
   "outputs": [],
   "source": [
    "df=pd.read_csv(\"usecase1_test.csv\")"
   ]
  },
  {
   "cell_type": "code",
   "execution_count": 22,
   "id": "1fce6a41",
   "metadata": {},
   "outputs": [
    {
     "data": {
      "text/plain": [
       "Index(['NCT Number', 'Study Title', 'Study URL', 'Acronym', 'Study Status',\n",
       "       'Brief Summary', 'Study Results', 'Conditions', 'Interventions',\n",
       "       'Primary Outcome Measures', 'Secondary Outcome Measures',\n",
       "       'Other Outcome Measures', 'Sponsor', 'Collaborators', 'Sex', 'Age',\n",
       "       'Phases', 'Enrollment', 'Funder Type', 'Study Type', 'Study Design',\n",
       "       'Other IDs', 'Start Date', 'Primary Completion Date', 'Completion Date',\n",
       "       'First Posted', 'Results First Posted', 'Last Update Posted',\n",
       "       'Locations', 'Study Documents'],\n",
       "      dtype='object')"
      ]
     },
     "execution_count": 22,
     "metadata": {},
     "output_type": "execute_result"
    }
   ],
   "source": [
    "df.columns"
   ]
  },
  {
   "cell_type": "code",
   "execution_count": 23,
   "id": "d1cfb057",
   "metadata": {},
   "outputs": [],
   "source": [
    "df.drop(columns=['Study URL','Acronym','Study Results','Sponsor','Collaborators','Enrollment','Funder Type','Locations','Study Documents','Start Date','Primary Completion Date','Completion Date','First Posted','Results First Posted','Last Update Posted'],inplace=True)"
   ]
  },
  {
   "cell_type": "code",
   "execution_count": 24,
   "id": "e93b5376",
   "metadata": {},
   "outputs": [
    {
     "data": {
      "text/plain": [
       "Index(['NCT Number', 'Study Title', 'Study Status', 'Brief Summary',\n",
       "       'Conditions', 'Interventions', 'Primary Outcome Measures',\n",
       "       'Secondary Outcome Measures', 'Other Outcome Measures', 'Sex', 'Age',\n",
       "       'Phases', 'Study Type', 'Study Design', 'Other IDs'],\n",
       "      dtype='object')"
      ]
     },
     "execution_count": 24,
     "metadata": {},
     "output_type": "execute_result"
    }
   ],
   "source": [
    "df.columns"
   ]
  },
  {
   "cell_type": "code",
   "execution_count": 26,
   "id": "4950597d",
   "metadata": {},
   "outputs": [
    {
     "name": "stdout",
     "output_type": "stream",
     "text": [
      "<class 'pandas.core.frame.DataFrame'>\n",
      "RangeIndex: 500 entries, 0 to 499\n",
      "Data columns (total 15 columns):\n",
      " #   Column                      Non-Null Count  Dtype \n",
      "---  ------                      --------------  ----- \n",
      " 0   NCT Number                  500 non-null    object\n",
      " 1   Study Title                 500 non-null    object\n",
      " 2   Study Status                500 non-null    object\n",
      " 3   Brief Summary               500 non-null    object\n",
      " 4   Conditions                  500 non-null    object\n",
      " 5   Interventions               471 non-null    object\n",
      " 6   Primary Outcome Measures    490 non-null    object\n",
      " 7   Secondary Outcome Measures  403 non-null    object\n",
      " 8   Other Outcome Measures      38 non-null     object\n",
      " 9   Sex                         499 non-null    object\n",
      " 10  Age                         500 non-null    object\n",
      " 11  Phases                      342 non-null    object\n",
      " 12  Study Type                  500 non-null    object\n",
      " 13  Study Design                497 non-null    object\n",
      " 14  Other IDs                   500 non-null    object\n",
      "dtypes: object(15)\n",
      "memory usage: 58.7+ KB\n"
     ]
    }
   ],
   "source": [
    "df.info()"
   ]
  },
  {
   "cell_type": "code",
   "execution_count": 25,
   "id": "6198ba68",
   "metadata": {},
   "outputs": [
    {
     "data": {
      "text/plain": [
       "NCT Number                    object\n",
       "Study Title                   object\n",
       "Study Status                  object\n",
       "Brief Summary                 object\n",
       "Conditions                    object\n",
       "Interventions                 object\n",
       "Primary Outcome Measures      object\n",
       "Secondary Outcome Measures    object\n",
       "Other Outcome Measures        object\n",
       "Sex                           object\n",
       "Age                           object\n",
       "Phases                        object\n",
       "Study Type                    object\n",
       "Study Design                  object\n",
       "Other IDs                     object\n",
       "dtype: object"
      ]
     },
     "execution_count": 25,
     "metadata": {},
     "output_type": "execute_result"
    }
   ],
   "source": [
    "df.dtypes"
   ]
  },
  {
   "cell_type": "code",
   "execution_count": null,
   "id": "81b239e0",
   "metadata": {},
   "outputs": [],
   "source": [
    "df['Secondary Measure']="
   ]
  },
  {
   "cell_type": "code",
   "execution_count": 24,
   "id": "53ff73e4",
   "metadata": {},
   "outputs": [],
   "source": [
    "# df.describe(include='all') "
   ]
  },
  {
   "cell_type": "code",
   "execution_count": null,
   "id": "369390be",
   "metadata": {},
   "outputs": [],
   "source": []
  },
  {
   "cell_type": "code",
   "execution_count": 27,
   "id": "55acb74b",
   "metadata": {},
   "outputs": [
    {
     "data": {
      "text/plain": [
       "NCT Number                      0\n",
       "Study Title                     0\n",
       "Study Status                    0\n",
       "Brief Summary                   0\n",
       "Conditions                      0\n",
       "Interventions                  29\n",
       "Primary Outcome Measures       10\n",
       "Secondary Outcome Measures     97\n",
       "Other Outcome Measures        462\n",
       "Sex                             1\n",
       "Age                             0\n",
       "Phases                        158\n",
       "Study Type                      0\n",
       "Study Design                    3\n",
       "Other IDs                       0\n",
       "dtype: int64"
      ]
     },
     "execution_count": 27,
     "metadata": {},
     "output_type": "execute_result"
    }
   ],
   "source": [
    "df.isna().sum()"
   ]
  },
  {
   "cell_type": "code",
   "execution_count": 28,
   "id": "312011dc",
   "metadata": {},
   "outputs": [
    {
     "data": {
      "text/plain": [
       "Study Status\n",
       "COMPLETED                 339\n",
       "RECRUITING                 46\n",
       "TERMINATED                 36\n",
       "UNKNOWN                    26\n",
       "WITHDRAWN                  19\n",
       "ACTIVE_NOT_RECRUITING      19\n",
       "NOT_YET_RECRUITING         12\n",
       "APPROVED_FOR_MARKETING      2\n",
       "NO_LONGER_AVAILABLE         1\n",
       "Name: count, dtype: int64"
      ]
     },
     "execution_count": 28,
     "metadata": {},
     "output_type": "execute_result"
    }
   ],
   "source": [
    "# df[\"Study Status\"].describe()\n",
    "df[\"Study Status\"].value_counts()"
   ]
  },
  {
   "cell_type": "code",
   "execution_count": 29,
   "id": "0ad0d1a7",
   "metadata": {},
   "outputs": [],
   "source": [
    "# print(df['Sex'].value_counts())\n",
    "# print(df['Age'].value_counts())\n"
   ]
  },
  {
   "cell_type": "code",
   "execution_count": 30,
   "id": "6f06675d",
   "metadata": {},
   "outputs": [
    {
     "data": {
      "text/plain": [
       "Phases\n",
       "PHASE1           109\n",
       "PHASE3           100\n",
       "PHASE2            78\n",
       "PHASE1|PHASE2     24\n",
       "PHASE4            21\n",
       "PHASE2|PHASE3      8\n",
       "EARLY_PHASE1       2\n",
       "Name: count, dtype: int64"
      ]
     },
     "execution_count": 30,
     "metadata": {},
     "output_type": "execute_result"
    }
   ],
   "source": [
    "# df[\"Phases\"].describe()\n",
    "df[\"Phases\"].value_counts()\n"
   ]
  },
  {
   "cell_type": "code",
   "execution_count": 31,
   "id": "483a603d",
   "metadata": {},
   "outputs": [
    {
     "data": {
      "text/plain": [
       "Study Design\n",
       "Observational Model: |Time Perspective: p                                                                                                                                  75\n",
       "Allocation: NA|Intervention Model: SINGLE_GROUP|Masking: NONE|Primary Purpose: TREATMENT                                                                                   73\n",
       "Allocation: RANDOMIZED|Intervention Model: PARALLEL|Masking: QUADRUPLE (PARTICIPANT, CARE_PROVIDER, INVESTIGATOR, OUTCOMES_ASSESSOR)|Primary Purpose: TREATMENT            47\n",
       "Allocation: RANDOMIZED|Intervention Model: PARALLEL|Masking: NONE|Primary Purpose: TREATMENT                                                                               39\n",
       "Allocation: RANDOMIZED|Intervention Model: PARALLEL|Masking: DOUBLE (PARTICIPANT, INVESTIGATOR)|Primary Purpose: TREATMENT                                                 37\n",
       "                                                                                                                                                                           ..\n",
       "Allocation: RANDOMIZED|Intervention Model: SEQUENTIAL|Masking: QUADRUPLE (PARTICIPANT, CARE_PROVIDER, INVESTIGATOR, OUTCOMES_ASSESSOR)|Primary Purpose: PREVENTION          1\n",
       "Allocation: RANDOMIZED|Intervention Model: CROSSOVER|Masking: |Primary Purpose: TREATMENT                                                                                   1\n",
       "Allocation: RANDOMIZED|Intervention Model: SINGLE_GROUP|Masking: SINGLE|Primary Purpose: TREATMENT                                                                          1\n",
       "Allocation: RANDOMIZED|Intervention Model: SINGLE_GROUP|Masking: QUADRUPLE (PARTICIPANT, CARE_PROVIDER, INVESTIGATOR, OUTCOMES_ASSESSOR)|Primary Purpose: BASIC_SCIENCE     1\n",
       "Allocation: NON_RANDOMIZED|Intervention Model: SINGLE_GROUP|Masking: NONE|Primary Purpose:                                                                                  1\n",
       "Name: count, Length: 87, dtype: int64"
      ]
     },
     "execution_count": 31,
     "metadata": {},
     "output_type": "execute_result"
    }
   ],
   "source": [
    "# df[\"Enrollment\"].describe()\n",
    "df[\"Study Design\"].value_counts()\n"
   ]
  },
  {
   "cell_type": "code",
   "execution_count": null,
   "id": "2ac44f4b",
   "metadata": {},
   "outputs": [],
   "source": [
    "\n"
   ]
  },
  {
   "cell_type": "code",
   "execution_count": null,
   "id": "9cf7dc0e",
   "metadata": {},
   "outputs": [],
   "source": []
  }
 ],
 "metadata": {
  "kernelspec": {
   "display_name": "Python (NEST)",
   "language": "python",
   "name": "nest"
  },
  "language_info": {
   "codemirror_mode": {
    "name": "ipython",
    "version": 3
   },
   "file_extension": ".py",
   "mimetype": "text/x-python",
   "name": "python",
   "nbconvert_exporter": "python",
   "pygments_lexer": "ipython3",
   "version": "3.11.4"
  }
 },
 "nbformat": 4,
 "nbformat_minor": 5
}
