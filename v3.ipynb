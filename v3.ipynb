{
 "cells": [
  {
   "cell_type": "code",
   "execution_count": 1,
   "id": "1bfda148-ae34-4ac6-9df0-a0cf0c9ea50c",
   "metadata": {},
   "outputs": [],
   "source": [
    "import pandas as pd"
   ]
  },
  {
   "cell_type": "code",
   "execution_count": 3,
   "id": "ff9d0f64-a1cc-4290-96c6-6b547092ea2c",
   "metadata": {},
   "outputs": [],
   "source": [
    "df = pd.read_csv(\"usecase_1_.csv\")"
   ]
  },
  {
   "cell_type": "code",
   "execution_count": 4,
   "id": "676ebecf-fddb-4cda-9156-d48a5dac85f7",
   "metadata": {},
   "outputs": [],
   "source": [
    "sample_data = (\"sample_data.csv\")"
   ]
  },
  {
   "cell_type": "code",
   "execution_count": 5,
   "id": "d883ae57-db90-4b39-82c9-9aa60de25793",
   "metadata": {},
   "outputs": [],
   "source": [
    "df.iloc[:100].to_csv(sample_data, index=False)"
   ]
  },
  {
   "cell_type": "code",
   "execution_count": null,
   "id": "e7f6cc6d-36ab-446a-8558-9d1ed6ecf363",
   "metadata": {},
   "outputs": [],
   "source": []
  },
  {
   "cell_type": "code",
   "execution_count": 6,
   "id": "ff3dfb33-3155-42a5-b4eb-517fe10792a4",
   "metadata": {},
   "outputs": [
    {
     "data": {
      "text/plain": [
       "Index(['Unnamed: 0.1', 'Unnamed: 0', 'NCT Number', 'Study Title', 'Study URL',\n",
       "       'Acronym', 'Study Status', 'Brief Summary', 'Study Results',\n",
       "       'Conditions', 'Interventions', 'Primary Outcome Measures',\n",
       "       'Secondary Outcome Measures', 'Other Outcome Measures', 'Sponsor',\n",
       "       'Collaborators', 'Sex', 'Age', 'Phases', 'Enrollment', 'Funder Type',\n",
       "       'Study Type', 'Study Design', 'Other IDs', 'Start Date',\n",
       "       'Primary Completion Date', 'Completion Date', 'First Posted',\n",
       "       'Results First Posted', 'Last Update Posted', 'Locations',\n",
       "       'Study Documents'],\n",
       "      dtype='object')"
      ]
     },
     "execution_count": 6,
     "metadata": {},
     "output_type": "execute_result"
    }
   ],
   "source": [
    "df.columns"
   ]
  },
  {
   "cell_type": "code",
   "execution_count": 7,
   "id": "9c614701-3a63-426c-a8de-dfbc5e69a50d",
   "metadata": {},
   "outputs": [],
   "source": [
    "# correlationMatrix = df.corr(numeric_only=True)"
   ]
  },
  {
   "cell_type": "code",
   "execution_count": 8,
   "id": "a97c88c7-747c-471f-a8b9-fa17de4e1feb",
   "metadata": {},
   "outputs": [],
   "source": [
    "import seaborn as sns\n",
    "import matplotlib.pyplot as plt"
   ]
  },
  {
   "cell_type": "code",
   "execution_count": 9,
   "id": "70d7373c-58c1-4937-bdaa-e72ce856d7ab",
   "metadata": {},
   "outputs": [],
   "source": [
    "# fig, ax = plt.subplots(figsize=(4, 8))\n",
    "# sns.heatmap(correlationMatrix,cmap='coolwarm', annot=True, vmax=0.25, vmin=-0.25)"
   ]
  },
  {
   "cell_type": "code",
   "execution_count": 10,
   "id": "24084b94-dffe-4ba7-8fe1-7b09ca09bf84",
   "metadata": {},
   "outputs": [
    {
     "name": "stdout",
     "output_type": "stream",
     "text": [
      "<class 'pandas.core.frame.DataFrame'>\n",
      "RangeIndex: 117980 entries, 0 to 117979\n",
      "Data columns (total 32 columns):\n",
      " #   Column                      Non-Null Count   Dtype  \n",
      "---  ------                      --------------   -----  \n",
      " 0   Unnamed: 0.1                117980 non-null  int64  \n",
      " 1   Unnamed: 0                  117980 non-null  int64  \n",
      " 2   NCT Number                  117980 non-null  object \n",
      " 3   Study Title                 117980 non-null  object \n",
      " 4   Study URL                   117980 non-null  object \n",
      " 5   Acronym                     24116 non-null   object \n",
      " 6   Study Status                117980 non-null  object \n",
      " 7   Brief Summary               117980 non-null  object \n",
      " 8   Study Results               117980 non-null  object \n",
      " 9   Conditions                  117950 non-null  object \n",
      " 10  Interventions               112324 non-null  object \n",
      " 11  Primary Outcome Measures    114903 non-null  object \n",
      " 12  Secondary Outcome Measures  93200 non-null   object \n",
      " 13  Other Outcome Measures      7924 non-null    object \n",
      " 14  Sponsor                     117980 non-null  object \n",
      " 15  Collaborators               21366 non-null   object \n",
      " 16  Sex                         117838 non-null  object \n",
      " 17  Age                         117980 non-null  object \n",
      " 18  Phases                      83095 non-null   object \n",
      " 19  Enrollment                  116147 non-null  float64\n",
      " 20  Funder Type                 117980 non-null  object \n",
      " 21  Study Type                  117980 non-null  object \n",
      " 22  Study Design                117328 non-null  object \n",
      " 23  Other IDs                   117977 non-null  object \n",
      " 24  Start Date                  116241 non-null  object \n",
      " 25  Primary Completion Date     111986 non-null  object \n",
      " 26  Completion Date             112654 non-null  object \n",
      " 27  First Posted                117980 non-null  object \n",
      " 28  Results First Posted        32055 non-null   object \n",
      " 29  Last Update Posted          117980 non-null  object \n",
      " 30  Locations                   105092 non-null  object \n",
      " 31  Study Documents             12858 non-null   object \n",
      "dtypes: float64(1), int64(2), object(29)\n",
      "memory usage: 28.8+ MB\n"
     ]
    }
   ],
   "source": [
    "df.info()"
   ]
  },
  {
   "cell_type": "code",
   "execution_count": 11,
   "id": "3225e672-5159-4165-ad05-708ee9675772",
   "metadata": {},
   "outputs": [
    {
     "data": {
      "text/plain": [
       "Unnamed: 0.1                       0\n",
       "Unnamed: 0                         0\n",
       "NCT Number                         0\n",
       "Study Title                        0\n",
       "Study URL                          0\n",
       "Acronym                        93864\n",
       "Study Status                       0\n",
       "Brief Summary                      0\n",
       "Study Results                      0\n",
       "Conditions                        30\n",
       "Interventions                   5656\n",
       "Primary Outcome Measures        3077\n",
       "Secondary Outcome Measures     24780\n",
       "Other Outcome Measures        110056\n",
       "Sponsor                            0\n",
       "Collaborators                  96614\n",
       "Sex                              142\n",
       "Age                                0\n",
       "Phases                         34885\n",
       "Enrollment                      1833\n",
       "Funder Type                        0\n",
       "Study Type                         0\n",
       "Study Design                     652\n",
       "Other IDs                          3\n",
       "Start Date                      1739\n",
       "Primary Completion Date         5994\n",
       "Completion Date                 5326\n",
       "First Posted                       0\n",
       "Results First Posted           85925\n",
       "Last Update Posted                 0\n",
       "Locations                      12888\n",
       "Study Documents               105122\n",
       "dtype: int64"
      ]
     },
     "execution_count": 11,
     "metadata": {},
     "output_type": "execute_result"
    }
   ],
   "source": [
    "df.isna().sum()"
   ]
  },
  {
   "cell_type": "markdown",
   "id": "5923aefe-ec6b-4909-925f-be0f4651fd05",
   "metadata": {},
   "source": [
    "# Combining Columns"
   ]
  },
  {
   "cell_type": "code",
   "execution_count": 14,
   "id": "021ab500-b0c2-4438-84e8-45eb30b00b16",
   "metadata": {},
   "outputs": [
    {
     "data": {
      "text/html": [
       "<div>\n",
       "<style scoped>\n",
       "    .dataframe tbody tr th:only-of-type {\n",
       "        vertical-align: middle;\n",
       "    }\n",
       "\n",
       "    .dataframe tbody tr th {\n",
       "        vertical-align: top;\n",
       "    }\n",
       "\n",
       "    .dataframe thead th {\n",
       "        text-align: right;\n",
       "    }\n",
       "</style>\n",
       "<table border=\"1\" class=\"dataframe\">\n",
       "  <thead>\n",
       "    <tr style=\"text-align: right;\">\n",
       "      <th></th>\n",
       "      <th>Secondary Outcome Measures</th>\n",
       "      <th>Other Outcome Measures</th>\n",
       "      <th>Secondary Measures</th>\n",
       "    </tr>\n",
       "  </thead>\n",
       "  <tbody>\n",
       "    <tr>\n",
       "      <th>0</th>\n",
       "      <td>Area Under the Concentration-time Curve of BI ...</td>\n",
       "      <td>NaN</td>\n",
       "      <td>Area Under the Concentration-time Curve of BI ...</td>\n",
       "    </tr>\n",
       "    <tr>\n",
       "      <th>1</th>\n",
       "      <td>Change From Baseline in the Alzheimer's Diseas...</td>\n",
       "      <td>NaN</td>\n",
       "      <td>Change From Baseline in the Alzheimer's Diseas...</td>\n",
       "    </tr>\n",
       "    <tr>\n",
       "      <th>2</th>\n",
       "      <td>Endoscopist qualitative rating of the Saneso 3...</td>\n",
       "      <td>NaN</td>\n",
       "      <td>Endoscopist qualitative rating of the Saneso 3...</td>\n",
       "    </tr>\n",
       "    <tr>\n",
       "      <th>3</th>\n",
       "      <td>Safety Endpoint (Rate of MACCE), Rate of MACCE...</td>\n",
       "      <td>Efficacy Endpoint, Reduction in embolic burden...</td>\n",
       "      <td>Safety Endpoint (Rate of MACCE), Rate of MACCE...</td>\n",
       "    </tr>\n",
       "    <tr>\n",
       "      <th>4</th>\n",
       "      <td>NaN</td>\n",
       "      <td>NaN</td>\n",
       "      <td></td>\n",
       "    </tr>\n",
       "    <tr>\n",
       "      <th>...</th>\n",
       "      <td>...</td>\n",
       "      <td>...</td>\n",
       "      <td>...</td>\n",
       "    </tr>\n",
       "    <tr>\n",
       "      <th>117975</th>\n",
       "      <td>Time to Exacerbation of Psychotic Symptoms/Imp...</td>\n",
       "      <td>NaN</td>\n",
       "      <td>Time to Exacerbation of Psychotic Symptoms/Imp...</td>\n",
       "    </tr>\n",
       "    <tr>\n",
       "      <th>117976</th>\n",
       "      <td>Number of Participants Reporting One or More T...</td>\n",
       "      <td>NaN</td>\n",
       "      <td>Number of Participants Reporting One or More T...</td>\n",
       "    </tr>\n",
       "    <tr>\n",
       "      <th>117977</th>\n",
       "      <td>To study the performance of the InSignia assay...</td>\n",
       "      <td>NaN</td>\n",
       "      <td>To study the performance of the InSignia assay...</td>\n",
       "    </tr>\n",
       "    <tr>\n",
       "      <th>117978</th>\n",
       "      <td>Change From Baseline in Neuropathic Pain Scale...</td>\n",
       "      <td>NaN</td>\n",
       "      <td>Change From Baseline in Neuropathic Pain Scale...</td>\n",
       "    </tr>\n",
       "    <tr>\n",
       "      <th>117979</th>\n",
       "      <td>Treatment Response as Measured by the Observer...</td>\n",
       "      <td>NaN</td>\n",
       "      <td>Treatment Response as Measured by the Observer...</td>\n",
       "    </tr>\n",
       "  </tbody>\n",
       "</table>\n",
       "<p>117980 rows × 3 columns</p>\n",
       "</div>"
      ],
      "text/plain": [
       "                               Secondary Outcome Measures  \\\n",
       "0       Area Under the Concentration-time Curve of BI ...   \n",
       "1       Change From Baseline in the Alzheimer's Diseas...   \n",
       "2       Endoscopist qualitative rating of the Saneso 3...   \n",
       "3       Safety Endpoint (Rate of MACCE), Rate of MACCE...   \n",
       "4                                                     NaN   \n",
       "...                                                   ...   \n",
       "117975  Time to Exacerbation of Psychotic Symptoms/Imp...   \n",
       "117976  Number of Participants Reporting One or More T...   \n",
       "117977  To study the performance of the InSignia assay...   \n",
       "117978  Change From Baseline in Neuropathic Pain Scale...   \n",
       "117979  Treatment Response as Measured by the Observer...   \n",
       "\n",
       "                                   Other Outcome Measures  \\\n",
       "0                                                     NaN   \n",
       "1                                                     NaN   \n",
       "2                                                     NaN   \n",
       "3       Efficacy Endpoint, Reduction in embolic burden...   \n",
       "4                                                     NaN   \n",
       "...                                                   ...   \n",
       "117975                                                NaN   \n",
       "117976                                                NaN   \n",
       "117977                                                NaN   \n",
       "117978                                                NaN   \n",
       "117979                                                NaN   \n",
       "\n",
       "                                       Secondary Measures  \n",
       "0       Area Under the Concentration-time Curve of BI ...  \n",
       "1       Change From Baseline in the Alzheimer's Diseas...  \n",
       "2       Endoscopist qualitative rating of the Saneso 3...  \n",
       "3       Safety Endpoint (Rate of MACCE), Rate of MACCE...  \n",
       "4                                                          \n",
       "...                                                   ...  \n",
       "117975  Time to Exacerbation of Psychotic Symptoms/Imp...  \n",
       "117976  Number of Participants Reporting One or More T...  \n",
       "117977  To study the performance of the InSignia assay...  \n",
       "117978  Change From Baseline in Neuropathic Pain Scale...  \n",
       "117979  Treatment Response as Measured by the Observer...  \n",
       "\n",
       "[117980 rows x 3 columns]"
      ]
     },
     "execution_count": 14,
     "metadata": {},
     "output_type": "execute_result"
    }
   ],
   "source": [
    "df[['Secondary Outcome Measures','Other Outcome Measures','Secondary Measures']]"
   ]
  },
  {
   "cell_type": "code",
   "execution_count": 13,
   "id": "5c2498a0-a374-411f-8d3f-c00751d80341",
   "metadata": {},
   "outputs": [],
   "source": [
    "df['Secondary Measures'] = (df['Secondary Outcome Measures'].fillna('') + ' ' + df['Other Outcome Measures'].fillna('')).str.strip()\n"
   ]
  },
  {
   "cell_type": "code",
   "execution_count": 15,
   "id": "716e0f5b-65f5-4be1-8bb1-c22dcdc7cce0",
   "metadata": {},
   "outputs": [],
   "source": [
    "import numpy as np\n",
    "\n",
    "def combine_columns(dataframe, column1, column2):\n",
    "    # Create a new column combining the two, but keeping rows as NaN if both values are NaN\n",
    "    dataframe['Secondary Measures'] = dataframe.apply(\n",
    "        lambda row: np.nan if pd.isna(row[column1]) and pd.isna(row[column2])\n",
    "        else f\"{row[column1] or ''} {row[column2] or ''}\".strip(),\n",
    "        axis=1\n",
    "    )\n",
    "    return dataframe\n"
   ]
  },
  {
   "cell_type": "code",
   "execution_count": 16,
   "id": "66fdabb9-d972-468a-bf80-977f5be5ff05",
   "metadata": {},
   "outputs": [],
   "source": [
    "df.drop(columns=['Unnamed: 0.1','Unnamed: 0','Study URL','Acronym','Study Results','Sponsor','Collaborators','Enrollment','Funder Type','Other IDs','Start Date','Primary Completion Date','Completion Date','First Posted','Results First Posted','Last Update Posted','Locations','Study Documents'],inplace=True)"
   ]
  },
  {
   "cell_type": "code",
   "execution_count": 17,
   "id": "c4484d80-b7a6-4ee7-ad97-5ad19a7ca49e",
   "metadata": {},
   "outputs": [],
   "source": [
    "df.drop(columns=['Secondary Outcome Measures','Other Outcome Measures'],inplace=True)"
   ]
  },
  {
   "cell_type": "code",
   "execution_count": 18,
   "id": "31785af4-7536-4e13-a897-7ce2c3ff2663",
   "metadata": {},
   "outputs": [
    {
     "name": "stdout",
     "output_type": "stream",
     "text": [
      "<class 'pandas.core.frame.DataFrame'>\n",
      "RangeIndex: 117980 entries, 0 to 117979\n",
      "Data columns (total 13 columns):\n",
      " #   Column                    Non-Null Count   Dtype \n",
      "---  ------                    --------------   ----- \n",
      " 0   NCT Number                117980 non-null  object\n",
      " 1   Study Title               117980 non-null  object\n",
      " 2   Study Status              117980 non-null  object\n",
      " 3   Brief Summary             117980 non-null  object\n",
      " 4   Conditions                117950 non-null  object\n",
      " 5   Interventions             112324 non-null  object\n",
      " 6   Primary Outcome Measures  114903 non-null  object\n",
      " 7   Sex                       117838 non-null  object\n",
      " 8   Age                       117980 non-null  object\n",
      " 9   Phases                    83095 non-null   object\n",
      " 10  Study Type                117980 non-null  object\n",
      " 11  Study Design              117328 non-null  object\n",
      " 12  Secondary Measures        117980 non-null  object\n",
      "dtypes: object(13)\n",
      "memory usage: 11.7+ MB\n"
     ]
    }
   ],
   "source": [
    "df.info()"
   ]
  },
  {
   "cell_type": "code",
   "execution_count": 19,
   "id": "0ea4ed4b-024e-4944-b47f-14f58c8c296b",
   "metadata": {},
   "outputs": [
    {
     "data": {
      "text/plain": [
       "NCT Number                      0\n",
       "Study Title                     0\n",
       "Study Status                    0\n",
       "Brief Summary                   0\n",
       "Conditions                     30\n",
       "Interventions                5656\n",
       "Primary Outcome Measures     3077\n",
       "Sex                           142\n",
       "Age                             0\n",
       "Phases                      34885\n",
       "Study Type                      0\n",
       "Study Design                  652\n",
       "Secondary Measures              0\n",
       "dtype: int64"
      ]
     },
     "execution_count": 19,
     "metadata": {},
     "output_type": "execute_result"
    }
   ],
   "source": [
    "df.isna().sum()"
   ]
  }
 ],
 "metadata": {
  "kernelspec": {
   "display_name": "Python 3 (ipykernel)",
   "language": "python",
   "name": "python3"
  },
  "language_info": {
   "codemirror_mode": {
    "name": "ipython",
    "version": 3
   },
   "file_extension": ".py",
   "mimetype": "text/x-python",
   "name": "python",
   "nbconvert_exporter": "python",
   "pygments_lexer": "ipython3",
   "version": "3.12.0"
  }
 },
 "nbformat": 4,
 "nbformat_minor": 5
}
