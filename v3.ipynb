{
 "cells": [
  {
   "cell_type": "code",
   "execution_count": 1,
   "id": "1bfda148-ae34-4ac6-9df0-a0cf0c9ea50c",
   "metadata": {},
   "outputs": [],
   "source": [
    "import pandas as pd"
   ]
  },
  {
   "cell_type": "code",
   "execution_count": 2,
   "id": "ff9d0f64-a1cc-4290-96c6-6b547092ea2c",
   "metadata": {},
   "outputs": [],
   "source": [
    "df = pd.read_csv(\"usecase_1_.csv\")"
   ]
  },
  {
   "cell_type": "code",
   "execution_count": 15,
   "id": "676ebecf-fddb-4cda-9156-d48a5dac85f7",
   "metadata": {},
   "outputs": [],
   "source": [
    "sample_data = (\"sample_data.csv\")"
   ]
  },
  {
   "cell_type": "code",
   "execution_count": 16,
   "id": "d883ae57-db90-4b39-82c9-9aa60de25793",
   "metadata": {},
   "outputs": [],
   "source": [
    "df.iloc[:100].to_csv(sample_data, index=False)"
   ]
  },
  {
   "cell_type": "code",
   "execution_count": null,
   "id": "e7f6cc6d-36ab-446a-8558-9d1ed6ecf363",
   "metadata": {},
   "outputs": [],
   "source": []
  },
  {
   "cell_type": "code",
   "execution_count": 4,
   "id": "ff3dfb33-3155-42a5-b4eb-517fe10792a4",
   "metadata": {},
   "outputs": [
    {
     "data": {
      "text/plain": [
       "Index(['Unnamed: 0.1', 'Unnamed: 0', 'NCT Number', 'Study Title', 'Study URL',\n",
       "       'Acronym', 'Study Status', 'Brief Summary', 'Study Results',\n",
       "       'Conditions', 'Interventions', 'Primary Outcome Measures',\n",
       "       'Secondary Outcome Measures', 'Other Outcome Measures', 'Sponsor',\n",
       "       'Collaborators', 'Sex', 'Age', 'Phases', 'Enrollment', 'Funder Type',\n",
       "       'Study Type', 'Study Design', 'Other IDs', 'Start Date',\n",
       "       'Primary Completion Date', 'Completion Date', 'First Posted',\n",
       "       'Results First Posted', 'Last Update Posted', 'Locations',\n",
       "       'Study Documents'],\n",
       "      dtype='object')"
      ]
     },
     "execution_count": 4,
     "metadata": {},
     "output_type": "execute_result"
    }
   ],
   "source": [
    "df.columns"
   ]
  },
  {
   "cell_type": "code",
   "execution_count": 6,
   "id": "9c614701-3a63-426c-a8de-dfbc5e69a50d",
   "metadata": {},
   "outputs": [],
   "source": [
    "correlationMatrix = df.corr(numeric_only=True)"
   ]
  },
  {
   "cell_type": "code",
   "execution_count": 10,
   "id": "a97c88c7-747c-471f-a8b9-fa17de4e1feb",
   "metadata": {},
   "outputs": [],
   "source": [
    "import seaborn as sns\n",
    "import matplotlib.pyplot as plt"
   ]
  },
  {
   "cell_type": "code",
   "execution_count": 11,
   "id": "70d7373c-58c1-4937-bdaa-e72ce856d7ab",
   "metadata": {},
   "outputs": [
    {
     "data": {
      "text/plain": [
       "<Axes: >"
      ]
     },
     "execution_count": 11,
     "metadata": {},
     "output_type": "execute_result"
    },
    {
     "data": {
      "image/png": "[encoded data removed]",
      "text/plain": [
       "<Figure size 400x800 with 2 Axes>"
      ]
     },
     "metadata": {},
     "output_type": "display_data"
    }
   ],
   "source": [
    "fig, ax = plt.subplots(figsize=(4, 8))\n",
    "sns.heatmap(correlationMatrix,cmap='coolwarm', annot=True, vmax=0.25, vmin=-0.25)"
   ]
  },
  {
   "cell_type": "code",
   "execution_count": 23,
   "id": "24084b94-dffe-4ba7-8fe1-7b09ca09bf84",
   "metadata": {},
   "outputs": [
    {
     "name": "stdout",
     "output_type": "stream",
     "text": [
      "<class 'pandas.core.frame.DataFrame'>\n",
      "RangeIndex: 117980 entries, 0 to 117979\n",
      "Data columns (total 15 columns):\n",
      " #   Column                      Non-Null Count   Dtype \n",
      "---  ------                      --------------   ----- \n",
      " 0   NCT Number                  117980 non-null  object\n",
      " 1   Study Title                 117980 non-null  object\n",
      " 2   Study Status                117980 non-null  object\n",
      " 3   Brief Summary               117980 non-null  object\n",
      " 4   Conditions                  117950 non-null  object\n",
      " 5   Interventions               112324 non-null  object\n",
      " 6   Primary Outcome Measures    114903 non-null  object\n",
      " 7   Secondary Outcome Measures  93200 non-null   object\n",
      " 8   Other Outcome Measures      7924 non-null    object\n",
      " 9   Sex                         117838 non-null  object\n",
      " 10  Age                         117980 non-null  object\n",
      " 11  Phases                      83095 non-null   object\n",
      " 12  Study Type                  117980 non-null  object\n",
      " 13  Study Design                117328 non-null  object\n",
      " 14  Secondary Measures          7140 non-null    object\n",
      "dtypes: object(15)\n",
      "memory usage: 13.5+ MB\n"
     ]
    }
   ],
   "source": [
    "df.info()"
   ]
  },
  {
   "cell_type": "code",
   "execution_count": 28,
   "id": "3225e672-5159-4165-ad05-708ee9675772",
   "metadata": {},
   "outputs": [
    {
     "data": {
      "text/plain": [
       "NCT Number                         0\n",
       "Study Title                        0\n",
       "Study Status                       0\n",
       "Brief Summary                      0\n",
       "Conditions                        30\n",
       "Interventions                   5656\n",
       "Primary Outcome Measures        3077\n",
       "Secondary Outcome Measures     24780\n",
       "Other Outcome Measures        110056\n",
       "Sex                              142\n",
       "Age                                0\n",
       "Phases                         34885\n",
       "Study Type                         0\n",
       "Study Design                     652\n",
       "Secondary Measures                 0\n",
       "dtype: int64"
      ]
     },
     "execution_count": 28,
     "metadata": {},
     "output_type": "execute_result"
    }
   ],
   "source": [
    "df.isna().sum()"
   ]
  },
  {
   "cell_type": "markdown",
   "id": "5923aefe-ec6b-4909-925f-be0f4651fd05",
   "metadata": {},
   "source": [
    "# Combining Columns"
   ]
  },
  {
   "cell_type": "code",
   "execution_count": null,
   "id": "021ab500-b0c2-4438-84e8-45eb30b00b16",
   "metadata": {},
   "outputs": [],
   "source": [
    "df[['Secondary Outcome Measures','Other Outcome Measures','Secondary Measures']]"
   ]
  },
  {
   "cell_type": "code",
   "execution_count": 49,
   "id": "5c2498a0-a374-411f-8d3f-c00751d80341",
   "metadata": {},
   "outputs": [],
   "source": [
    "# df['Secondary Measures'] = (df['Secondary Outcome Measures'].fillna('') + ' ' + df['Other Outcome Measures'].fillna('')).str.strip()\n"
   ]
  },
  {
   "cell_type": "code",
   "execution_count": 41,
   "id": "716e0f5b-65f5-4be1-8bb1-c22dcdc7cce0",
   "metadata": {},
   "outputs": [],
   "source": [
    "import numpy as np\n",
    "\n",
    "def combine_columns(dataframe, column1, column2):\n",
    "    # Create a new column combining the two, but keeping rows as NaN if both values are NaN\n",
    "    dataframe['Secondary Measures'] = dataframe.apply(\n",
    "        lambda row: np.nan if pd.isna(row[column1]) and pd.isna(row[column2])\n",
    "        else f\"{row[column1] or ''} {row[column2] or ''}\".strip(),\n",
    "        axis=1\n",
    "    )\n",
    "    return dataframe\n"
   ]
  },
  {
   "cell_type": "code",
   "execution_count": 20,
   "id": "66fdabb9-d972-468a-bf80-977f5be5ff05",
   "metadata": {},
   "outputs": [],
   "source": [
    "df.drop(columns=['Unnamed: 0.1','Unnamed: 0','Study URL','Acronym','Study Results','Sponsor','Collaborators','Enrollment','Funder Type','Other IDs','Start Date','Primary Completion Date','Completion Date','First Posted','Results First Posted','Last Update Posted','Locations','Study Documents'],inplace=True)"
   ]
  },
  {
   "cell_type": "code",
   "execution_count": 46,
   "id": "c4484d80-b7a6-4ee7-ad97-5ad19a7ca49e",
   "metadata": {},
   "outputs": [],
   "source": [
    "df.drop(columns=['Secondary Outcome Measures','Other Outcome Measures'],inplace=True)"
   ]
  }
 ],
 "metadata": {
  "kernelspec": {
   "display_name": "Python 3 (ipykernel)",
   "language": "python",
   "name": "python3"
  },
  "language_info": {
   "codemirror_mode": {
    "name": "ipython",
    "version": 3
   },
   "file_extension": ".py",
   "mimetype": "text/x-python",
   "name": "python",
   "nbconvert_exporter": "python",
   "pygments_lexer": "ipython3",
   "version": "3.12.0"
  }
 },
 "nbformat": 4,
 "nbformat_minor": 5
}
